{
 "cells": [
  {
   "cell_type": "markdown",
   "id": "94ebf025",
   "metadata": {},
   "source": [
    "## 1.Split this String"
   ]
  },
  {
   "cell_type": "code",
   "execution_count": 1,
   "id": "4fb5ac30",
   "metadata": {},
   "outputs": [
    {
     "name": "stdout",
     "output_type": "stream",
     "text": [
      "['Hi', 'there', 'sam!']\n"
     ]
    }
   ],
   "source": [
    "s=\"Hi there sam!\"\n",
    "v=s.split()\n",
    "print(v)"
   ]
  },
  {
   "cell_type": "markdown",
   "id": "417d3ea3",
   "metadata": {},
   "source": [
    "## 2.Use .format()to print the following String"
   ]
  },
  {
   "cell_type": "code",
   "execution_count": 5,
   "id": "53432d60",
   "metadata": {},
   "outputs": [
    {
     "name": "stdout",
     "output_type": "stream",
     "text": [
      "The diameter of Earth is 12742 kilometer\n"
     ]
    }
   ],
   "source": [
    "plant =\"Earth\"\n",
    "diameter =\"12742\"\n",
    "v=\"The diameter of Earth is {an} kilometer\"\n",
    "print(v.format(an=12742))"
   ]
  },
  {
   "cell_type": "markdown",
   "id": "6cfc7ba9",
   "metadata": {},
   "source": [
    "## 3.In this nest dictionary grab the word \"hello"
   ]
  },
  {
   "cell_type": "code",
   "execution_count": 1,
   "id": "9415c286",
   "metadata": {},
   "outputs": [
    {
     "name": "stdout",
     "output_type": "stream",
     "text": [
      "hello\n"
     ]
    }
   ],
   "source": [
    "d = {'k1':[1,2,3,{'tricky':['oh','man','inception',{'target':[1,2,3,'hello']}]}]}\n",
    "print(d['k1'][3][\"tricky\"][3]['target'][3])"
   ]
  },
  {
   "cell_type": "markdown",
   "id": "1778eb26",
   "metadata": {},
   "source": [
    "## 5.Create an array of all the even integers from 20 to 35"
   ]
  },
  {
   "cell_type": "code",
   "execution_count": 10,
   "id": "da67094e",
   "metadata": {},
   "outputs": [
    {
     "name": "stdout",
     "output_type": "stream",
     "text": [
      "Array = [20 22 24 26 28 30 32 34]\n"
     ]
    }
   ],
   "source": [
    "import numpy as np\n",
    "array=np.arange(20,35,2)\n",
    "print(\"Array =\",array)"
   ]
  },
  {
   "cell_type": "markdown",
   "id": "d0e3123b",
   "metadata": {},
   "source": [
    "## 6. Create a 3x3 matrix with value ranging from 0 to 8"
   ]
  },
  {
   "cell_type": "code",
   "execution_count": 17,
   "id": "a03f57dd",
   "metadata": {},
   "outputs": [
    {
     "name": "stdout",
     "output_type": "stream",
     "text": [
      "[[0 1 2]\n",
      " [3 4 5]\n",
      " [6 7 8]]\n"
     ]
    }
   ],
   "source": [
    "import numpy as np\n",
    "x =  np.arange(0, 9)\n",
    "print(x.reshape(3,3))\n"
   ]
  },
  {
   "cell_type": "markdown",
   "id": "abd0352e",
   "metadata": {},
   "source": [
    "## 7. Concatenate a and b "
   ]
  },
  {
   "cell_type": "code",
   "execution_count": 6,
   "id": "08b645c1",
   "metadata": {},
   "outputs": [
    {
     "name": "stdout",
     "output_type": "stream",
     "text": [
      "[1 2 3 4 5 6]\n"
     ]
    }
   ],
   "source": [
    "import numpy as np\n",
    "\n",
    "a = np.array([1, 2, 3])\n",
    "\n",
    "b = np.array([4, 5, 6])\n",
    "\n",
    "v = np.concatenate((a, b))\n",
    "\n",
    "print(v)"
   ]
  },
  {
   "cell_type": "markdown",
   "id": "f672b435",
   "metadata": {},
   "source": [
    "## 8.Create a dataframe with 3 rows and 2 columns"
   ]
  },
  {
   "cell_type": "code",
   "execution_count": 17,
   "id": "bf9ecd28",
   "metadata": {
    "scrolled": true
   },
   "outputs": [
    {
     "name": "stdout",
     "output_type": "stream",
     "text": [
      "   x  y\n",
      "0  1  4\n",
      "1  2  5\n",
      "2  3  6\n"
     ]
    }
   ],
   "source": [
    "import pandas as pd\n",
    "\n",
    "data = {\n",
    "  \"x\": [1,2,3],\n",
    "  \"y\": [4,5,6]\n",
    "}\n",
    "df = pd.DataFrame(data)\n",
    "\n",
    "print(df) "
   ]
  },
  {
   "cell_type": "markdown",
   "id": "09ff1bb1",
   "metadata": {},
   "source": [
    "## 9.Generate the series of dates from 1st Jan,2023 to 10th Feb 2023"
   ]
  },
  {
   "cell_type": "code",
   "execution_count": 11,
   "id": "df3c3da7",
   "metadata": {},
   "outputs": [
    {
     "name": "stdout",
     "output_type": "stream",
     "text": [
      "DatetimeIndex(['2023-01-01', '2023-01-02', '2023-01-03', '2023-01-04',\n",
      "               '2023-01-05', '2023-01-06', '2023-01-07', '2023-01-08',\n",
      "               '2023-01-09', '2023-01-10', '2023-01-11', '2023-01-12',\n",
      "               '2023-01-13', '2023-01-14', '2023-01-15', '2023-01-16',\n",
      "               '2023-01-17', '2023-01-18', '2023-01-19', '2023-01-20',\n",
      "               '2023-01-21', '2023-01-22', '2023-01-23', '2023-01-24',\n",
      "               '2023-01-25', '2023-01-26', '2023-01-27', '2023-01-28',\n",
      "               '2023-01-29', '2023-01-30', '2023-01-31', '2023-02-01',\n",
      "               '2023-02-02', '2023-02-03', '2023-02-04', '2023-02-05',\n",
      "               '2023-02-06', '2023-02-07', '2023-02-08', '2023-02-09',\n",
      "               '2023-02-10'],\n",
      "              dtype='datetime64[ns]', freq='D')\n"
     ]
    }
   ],
   "source": [
    "import pandas as pd\n",
    "a= pd.date_range(start='2023-01-01', end='2023-02-10')\n",
    "print(a)"
   ]
  },
  {
   "cell_type": "markdown",
   "id": "d2bbc7f6",
   "metadata": {},
   "source": [
    "## 10.Create 2D list to data frame"
   ]
  },
  {
   "cell_type": "code",
   "execution_count": 8,
   "id": "6af6973e",
   "metadata": {},
   "outputs": [
    {
     "name": "stdout",
     "output_type": "stream",
     "text": [
      "   0    1   2\n",
      "0  1  aaa  22\n",
      "1  2  bbb  25\n",
      "2  3  ccc  24\n"
     ]
    }
   ],
   "source": [
    "import pandas as pd\n",
    "import numpy as np\n",
    "lists = [[1, 'aaa', 22], [2, 'bbb', 25], [3, 'ccc', 24]]\n",
    "v=pd.DataFrame(lists)\n",
    "print(v)"
   ]
  }
 ],
 "metadata": {
  "kernelspec": {
   "display_name": "Python 3 (ipykernel)",
   "language": "python",
   "name": "python3"
  },
  "language_info": {
   "codemirror_mode": {
    "name": "ipython",
    "version": 3
   },
   "file_extension": ".py",
   "mimetype": "text/x-python",
   "name": "python",
   "nbconvert_exporter": "python",
   "pygments_lexer": "ipython3",
   "version": "3.9.12"
  }
 },
 "nbformat": 4,
 "nbformat_minor": 5
}
